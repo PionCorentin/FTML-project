{
 "cells": [
  {
   "cell_type": "code",
   "execution_count": 149,
   "id": "3f5d69a1",
   "metadata": {},
   "outputs": [],
   "source": [
    "import numpy as np\n",
    "from sklearn.linear_model import LinearRegression\n",
    "from sklearn.neighbors import KNeighborsRegressor\n",
    "from sklearn.neighbors import KNeighborsClassifier\n",
    "from sklearn.linear_model import Lasso\n",
    "from sklearn.linear_model import Ridge\n",
    "from sklearn.svm import LinearSVC, SVC\n",
    "from sklearn.ensemble import RandomForestClassifier, AdaBoostClassifier, GradientBoostingClassifier\n",
    "from sklearn.model_selection import train_test_split\n",
    "from sklearn.metrics import accuracy_score\n",
    "from sklearn.metrics import r2_score\n",
    "from sklearn.metrics import classification_report,confusion_matrix\n",
    "import matplotlib.pyplot as plt\n",
    "import seaborn as sns"
   ]
  },
  {
   "cell_type": "code",
   "execution_count": 167,
   "id": "d3b77825",
   "metadata": {},
   "outputs": [],
   "source": [
    "def test_model(model):\n",
    "    model.fit(X_train, y_train.ravel())\n",
    "    y_pred = model.predict(X_test)\n",
    "    return r2_score(y_test, y_pred)"
   ]
  },
  {
   "cell_type": "code",
   "execution_count": 168,
   "id": "77ae2c54",
   "metadata": {},
   "outputs": [],
   "source": [
    "X = np.load(\"inputs.npy\")\n",
    "y = np.load(\"labels.npy\")\n",
    "X_train, X_test, y_train, y_test = train_test_split( X, y, test_size=0.33, random_state=42)"
   ]
  },
  {
   "cell_type": "code",
   "execution_count": 188,
   "id": "4ab82a11",
   "metadata": {},
   "outputs": [
    {
     "name": "stdout",
     "output_type": "stream",
     "text": [
      "LinearRegression accuracy: 0.9114023037616337\n",
      "Lasso accuracy: 0.9127466444564468\n",
      "Ridge accuracy: 0.9123417907019119\n"
     ]
    }
   ],
   "source": [
    "model_list = {\n",
    "            \"LinearRegression\": LinearRegression(),\n",
    "            \"Lasso\": Lasso(alpha=1.0),\n",
    "            \"Ridge\": Ridge(alpha=6.0)\n",
    "}\n",
    "\n",
    "for (name, model) in model_list.items():\n",
    "    print(name, \"accuracy:\", test_model(model))\n",
    "    "
   ]
  },
  {
   "cell_type": "markdown",
   "id": "3d25ae69",
   "metadata": {},
   "source": [
    "CLASSIFICATION"
   ]
  },
  {
   "cell_type": "code",
   "execution_count": 162,
   "id": "35a90072",
   "metadata": {},
   "outputs": [],
   "source": [
    "def test_model(model):\n",
    "    model.fit(X_train, y_train.ravel())\n",
    "    y_pred = model.predict(X_test)\n",
    "    return accuracy_score(y_test, y_pred)"
   ]
  },
  {
   "cell_type": "code",
   "execution_count": 163,
   "id": "394c82d6",
   "metadata": {},
   "outputs": [],
   "source": [
    "X = np.load(\"inputs_classification.npy\")\n",
    "y = np.load(\"labels_classification.npy\")\n",
    "X_train, X_test, y_train, y_test = train_test_split( X, y, test_size=0.33, random_state=42)"
   ]
  },
  {
   "cell_type": "code",
   "execution_count": 165,
   "id": "b0cca3f6",
   "metadata": {},
   "outputs": [
    {
     "name": "stdout",
     "output_type": "stream",
     "text": [
      "LinearSVC accuracy : 0.8909090909090909\n",
      "KNeighbors accuracy : 0.8393939393939394\n",
      "SVC accuracy : 0.8878787878787879\n",
      "RandomForestClassifier  accuracy : 0.8515151515151516\n",
      "AdaBoostClassifier  accuracy : 0.8636363636363636\n",
      "GradientBoostingClassifier  accuracy : 0.8484848484848485\n",
      "\n",
      "SVC seem to be the best classification models in this case\n"
     ]
    }
   ],
   "source": [
    "model_list = {\n",
    "            \"LinearSVC\": LinearSVC(max_iter=10000),\n",
    "            \"KNeighbors\": KNeighborsClassifier(),\n",
    "            \"SVC\" : SVC(max_iter=10000),\n",
    "            \"RandomForestClassifier \": RandomForestClassifier(),\n",
    "            \"AdaBoostClassifier \": AdaBoostClassifier(),\n",
    "            \"GradientBoostingClassifier \": GradientBoostingClassifier()\n",
    "            }\n",
    "\n",
    "for (name, model) in model_list.items():\n",
    "    print(name, \"accuracy:\", test_model(model))"
   ]
  }
 ],
 "metadata": {
  "kernelspec": {
   "display_name": "Python 3 (ipykernel)",
   "language": "python",
   "name": "python3"
  },
  "language_info": {
   "codemirror_mode": {
    "name": "ipython",
    "version": 3
   },
   "file_extension": ".py",
   "mimetype": "text/x-python",
   "name": "python",
   "nbconvert_exporter": "python",
   "pygments_lexer": "ipython3",
   "version": "3.8.10"
  }
 },
 "nbformat": 4,
 "nbformat_minor": 5
}
